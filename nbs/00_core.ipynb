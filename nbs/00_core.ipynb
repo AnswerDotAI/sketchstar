{
 "cells": [
  {
   "cell_type": "markdown",
   "id": "513e2632",
   "metadata": {
    "input_tokens": 15
   },
   "source": [
    "# core\n",
    "\n",
    "> Fill in a module description here"
   ]
  },
  {
   "cell_type": "code",
   "execution_count": null,
   "id": "5547171d",
   "metadata": {
    "input_tokens": 7,
    "time_run": "7:43:24p"
   },
   "outputs": [],
   "source": [
    "#| default_exp core"
   ]
  },
  {
   "cell_type": "code",
   "execution_count": null,
   "id": "4a2d7708",
   "metadata": {
    "input_tokens": 78,
    "time_run": "7:43:25p"
   },
   "outputs": [],
   "source": [
    "#| export\n",
    "import uuid,asyncio,shutil,subprocess,base64,time\n",
    "from PIL import Image\n",
    "from fasthtml.common import *\n",
    "from gaspard import *\n",
    "from plash_cli.auth import *\n",
    "from fastlite import database\n",
    "from fastcore.utils import *"
   ]
  },
  {
   "cell_type": "code",
   "execution_count": null,
   "id": "070e362e",
   "metadata": {
    "input_tokens": 12,
    "time_run": "7:43:25p"
   },
   "outputs": [],
   "source": [
    "from fasthtml.jupyter import *"
   ]
  },
  {
   "cell_type": "code",
   "execution_count": null,
   "id": "2524ac2c",
   "metadata": {
    "input_tokens": 16,
    "time_run": "7:43:25p"
   },
   "outputs": [],
   "source": [
    "#| export\n",
    "ROOT_DIR = Config.find('settings.ini').config_path"
   ]
  },
  {
   "cell_type": "code",
   "execution_count": null,
   "id": "3c3cb1bf",
   "metadata": {
    "input_tokens": 16,
    "time_run": "7:43:26p"
   },
   "outputs": [],
   "source": [
    "#| export\n",
    "app, rt = fast_app()\n",
    "task_status = {}"
   ]
  },
  {
   "cell_type": "code",
   "execution_count": null,
   "id": "1e692a23",
   "metadata": {
    "input_tokens": 13,
    "time_run": "7:43:26p"
   },
   "outputs": [],
   "source": [
    "#| export\n",
    "utc_now = lambda: int(time.time())"
   ]
  },
  {
   "cell_type": "code",
   "execution_count": null,
   "id": "44696c90",
   "metadata": {
    "input_tokens": 93,
    "time_run": "8:45:23p"
   },
   "outputs": [],
   "source": [
    "#| export\n",
    "class User: id: str\n",
    "class Animation: id: str; uid: int; status: str = 'in_progress'\n",
    "class Transaction: id: int; uid: str; amount: int; ts:int\n",
    "class Vote: id: int; uid: str; aid: str; ts: int"
   ]
  },
  {
   "cell_type": "code",
   "execution_count": null,
   "id": "6c6dd4b8",
   "metadata": {
    "input_tokens": 96,
    "time_run": "8:56:50p"
   },
   "outputs": [],
   "source": [
    "#| export\n",
    "db = database(ROOT_DIR / ('data/prod.db' if os.getenv('PLASH_PRODUCTION') else 'data/dev.db'))\n",
    "users = db.create(User, transform=True)\n",
    "animations = db.create(Animation, transform=True)\n",
    "transactions = db.create(Transaction, transform=True)\n",
    "votes = db.create(Vote, transform=True)"
   ]
  },
  {
   "cell_type": "code",
   "execution_count": null,
   "id": "5a375b45",
   "metadata": {
    "input_tokens": 469,
    "time_run": "8:45:31p"
   },
   "outputs": [],
   "source": [
    "#| export\n",
    "def toolbar(content=None, uid=None):\n",
    "    credits = 0 if not uid else sum(t.amount for t in transactions(\"uid=?\", (uid,)))\n",
    "    return Div(\n",
    "        # Existing toolbar\n",
    "        Div(\n",
    "            Div(\"Sketch Star\", style=\"font-weight:bold; font-size:1.2em\"),\n",
    "            Div(\n",
    "                Span(f\"Credits: {credits}\", style=\"margin-right:15px; font-weight:bold\"),\n",
    "                 A(\"Sketch!\", href=\"/\", style=\"margin-right:10px; padding:6px 12px; background:#007bff; color:white; text-decoration:none; border-radius:4px\"),\n",
    "                A(\"Leaderboard\", href=\"/leaderboard\", style=\"margin-right:10px; padding:6px 12px; background:#28a745; color:white; text-decoration:none; border-radius:4px\"),\n",
    "                A(\"Logout\", href=\"/logout\", style=\"padding:6px 12px; background:#dc3545; color:white; text-decoration:none; border-radius:4px\") if uid else None,\n",
    "                style=\"display:flex; align-items:center\"\n",
    "            ),\n",
    "            style=\"display:flex; justify-content:space-between; align-items:center; padding:10px 20px; background:#f8f9fa; border-bottom:1px solid #dee2e6\"\n",
    "        ),\n",
    "        # Centered content container\n",
    "        Div(content, style=\"max-width:1200px; margin:0 auto; padding:20px\") if content else None\n",
    "    )"
   ]
  },
  {
   "cell_type": "code",
   "execution_count": null,
   "id": "a08f33ef",
   "metadata": {
    "input_tokens": 538
   },
   "outputs": [],
   "source": [
    "#| export\n",
    "@rt('/login')\n",
    "def login(session):\n",
    "    # Get 3 random completed animations to showcase\n",
    "    random_animations = db.q(\"SELECT id FROM animation WHERE status = 'completed' ORDER BY RANDOM() LIMIT 3\")\n",
    "    \n",
    "    showcase_gifs = []\n",
    "    for anim in random_animations:\n",
    "        showcase_gifs.append(\n",
    "            Img(src=f\"/data/animations/{anim['id']}/animation.gif\", \n",
    "                style=\"width:200px; height:200px; object-fit:contain; border-radius:8px; margin:10px\")\n",
    "        )\n",
    "    \n",
    "    return toolbar(uid=None, content=Div(\n",
    "        H1(\"🎨 Welcome to Sketch Star!\", style=\"text-align:center; color:#007bff\"),\n",
    "        P(\"Turn your sketches into magical animations! Draw on our canvas and watch AI bring your creativity to life.\", \n",
    "          style=\"text-align:center; font-size:1.2em; margin:20px 0\"),\n",
    "        \n",
    "        Div(H3(\"✨ See what others have created:\", style=\"text-align:center\"),\n",
    "            Div(*showcase_gifs, style=\"text-align:center; margin:20px 0\"),\n",
    "            style=\"margin:30px 0\"),\n",
    "        \n",
    "        Div(\n",
    "            P(\"Ready to create your own animation?\", style=\"font-size:1.1em; margin-bottom:15px\"),\n",
    "            A(\"🚀 Sign in with Google to get started!\", href=mk_signin_url(session), \n",
    "              style=\"padding:15px 30px; background:#4285f4; color:white; text-decoration:none; border-radius:8px; font-size:1.1em; display:inline-block\"),\n",
    "            style=\"text-align:center; margin:40px 0\"\n",
    "        )\n",
    "    ))"
   ]
  },
  {
   "cell_type": "code",
   "execution_count": null,
   "id": "1cf27f29",
   "metadata": {
    "input_tokens": 181,
    "time_run": "10:50:49p"
   },
   "outputs": [],
   "source": [
    "#| export\n",
    "@rt(signin_completed_rt)\n",
    "def signin_completed(session, signin_reply: str):\n",
    "    try: session['uid'] = uid = goog_id_from_signin_reply(session, signin_reply)\n",
    "    except Exception as e: return Div(H2(\"Login Failed\"),P(f\"Error: {e}\"),A(\"Try Again\", href=\"/login\"))\n",
    "    if not users.get(uid,default=None):\n",
    "        users.insert(User(id=uid))\n",
    "        if users.count <100: transactions.insert(Transaction(uid=uid, amount=3, ts=utc_now()))\n",
    "    return RedirectResponse('/', status_code=303)"
   ]
  },
  {
   "cell_type": "code",
   "execution_count": null,
   "id": "b22ee206",
   "metadata": {
    "input_tokens": 40,
    "time_run": "7:43:28p"
   },
   "outputs": [],
   "source": [
    "#| export\n",
    "@rt('/logout')\n",
    "def logout(session):\n",
    "    session.pop('uid', None)\n",
    "    return RedirectResponse('/', status_code=303)"
   ]
  },
  {
   "cell_type": "code",
   "execution_count": null,
   "id": "5744475a",
   "metadata": {
    "input_tokens": 492,
    "time_run": "9:35:50p"
   },
   "outputs": [],
   "source": [
    "#| export\n",
    "@rt(\"/animation.gif\")\n",
    "async def get_gif(): return FileResponse(\"animation.gif\")\n",
    "\n",
    "@rt(\"/animations/{task_id}/animation.gif\")\n",
    "async def get_animation_gif(task_id: str): return FileResponse(f\"./data/animations/{task_id}/animation.gif\")\n",
    "\n",
    "@rt(\"/status/{task_id}\")\n",
    "async def get_status(task_id: str):\n",
    "    print(f\"Status endpoint called for task: {task_id}\")\n",
    "    task = task_status.get(task_id, dict(progress=0, status='not_found', step='Task not found'))\n",
    "    \n",
    "    if task['status'] == 'complete': \n",
    "        return Div(\n",
    "            P(\"✅ Animation complete!\"), \n",
    "            Img(src=f\"/data/animations/{task_id}/animation.gif\", style=\"max-width:100%; border-radius:8px; box-shadow:0 4px 8px rgba(0,0,0,0.1)\")\n",
    "        )\n",
    "    elif task['status'] == 'not_found':\n",
    "        return Div(P(\"❌ Task not found\"))\n",
    "    else:\n",
    "        print(\"returning the intermediate step...\")\n",
    "        return Div(\n",
    "            P(f\"🔄 {task['step']}\"), \n",
    "            Progress(value=task['progress'], max=100, style=\"width:100%; margin:10px 0\"), \n",
    "            P(f\"Progress: {task['progress']}%\", style=\"font-size:0.9em; color:#666\"),\n",
    "            id=\"progress\", \n",
    "            hx_get=f\"/status/{task_id}\", \n",
    "            hx_trigger=\"every 2s\", \n",
    "            hx_swap=\"outerHTML\"\n",
    "        )"
   ]
  },
  {
   "cell_type": "code",
   "execution_count": null,
   "id": "ba47b183",
   "metadata": {
    "input_tokens": 696,
    "time_run": "9:00:57p"
   },
   "outputs": [],
   "source": [
    "#| export\n",
    "@rt\n",
    "async def index(session):\n",
    "    if not (uid:=session.get('uid')): return RedirectResponse('/login', status_code=303)\n",
    "    return toolbar(uid=uid,content=Div(\n",
    "            Div(\n",
    "                Button(\"Red\", onclick=\"setColor('red')\", style=\"background:red;color:white;margin:2px\"),\n",
    "                Button(\"Blue\", onclick=\"setColor('blue')\", style=\"background:blue;color:white;margin:2px\"),\n",
    "                Button(\"Black\", onclick=\"setColor('black')\", style=\"background:black;color:white;margin:2px\"),\n",
    "            ),\n",
    "            Br(),\n",
    "            Button(\"Submit Drawing\", onclick=\"submitCanvas()\", id=\"submit-btn\"),\n",
    "            Div(id=\"result\", style=\"margin-top:20px\")(\n",
    "            Canvas(id=\"canvas\", width=\"1024\", height=\"1024\", style=\"border:1px solid black\"),\n",
    "            Script(\"\"\"\n",
    "                const canvas = document.getElementById('canvas');\n",
    "                const ctx = canvas.getContext('2d');\n",
    "                let drawing = false;\n",
    "                let currentColor = 'black';\n",
    "\n",
    "                const img = new Image();\n",
    "                img.onload = function() { ctx.drawImage(img, 0, 0, canvas.width, canvas.height); };\n",
    "                img.src = '/data/frame0.png';\n",
    "\n",
    "                function setColor(color) { currentColor = color; }\n",
    "\n",
    "                canvas.addEventListener('mousedown', e => { drawing = true; draw(e); });\n",
    "                canvas.addEventListener('mousemove', draw);\n",
    "                canvas.addEventListener('mouseup', () => { drawing = false; ctx.beginPath(); });\n",
    "\n",
    "                function draw(e) {\n",
    "                    if (!drawing) return;\n",
    "                    ctx.lineWidth = 3; ctx.lineCap = 'round'; ctx.strokeStyle = currentColor;\n",
    "                    ctx.lineTo(e.clientX - canvas.offsetLeft, e.clientY - canvas.offsetTop);\n",
    "                    ctx.stroke(); ctx.beginPath();\n",
    "                    ctx.moveTo(e.clientX - canvas.offsetLeft, e.clientY - canvas.offsetTop);\n",
    "                }\n",
    "\n",
    "                function submitCanvas() {\n",
    "                    const dataURL = canvas.toDataURL('image/png');\n",
    "                    htmx.ajax('POST', '/submit_drawing', {values: {canvas_data: dataURL}, target: '#result'});\n",
    "                }\n",
    "            \"\"\")\n",
    "        ))\n",
    "    )"
   ]
  },
  {
   "cell_type": "code",
   "execution_count": null,
   "id": "5784e6d2",
   "metadata": {
    "input_tokens": 1255,
    "time_run": "9:33:31p"
   },
   "outputs": [],
   "source": [
    "#| export\n",
    "async def create_animation_async(task_id: str, canvas_data: str):\n",
    "    task_status[task_id] = dict(progress=0, status='running', step='Initializing animation...')\n",
    "    print(f\"Task {task_id}: {task_status[task_id]}\")\n",
    "\n",
    "    session_dir = Path(f'./data/animations/{task_id}')\n",
    "    session_dir.mkdir(parents=True, exist_ok=True)\n",
    "    shutil.copy(Path('data/frame0.png'), session_dir / 'frame0.png')\n",
    "\n",
    "    task_status[task_id].update(progress=10, step='Setting up session...')\n",
    "    print(f\"Task {task_id}: {task_status[task_id]}\")\n",
    "\n",
    "    img_data = canvas_data.split(',')[1]\n",
    "    img_bytes = base64.b64decode(img_data)\n",
    "    with open(session_dir / 'canvas_drawing.png', 'wb') as f: f.write(img_bytes)\n",
    "    \n",
    "    task_status[task_id].update(progress=20, step='Analyzing drawing...')\n",
    "    \n",
    "    chat = Chat(\"gemini-2.5-flash-image-preview\")\n",
    "    chat([session_dir / \"frame0.png\", session_dir / \"canvas_drawing.png\", \"\"\"\\\n",
    "You're evaluating what the user drew on the original image and will animate it into a gif.\n",
    "First decide if what the user drew should enable the character reach the star.\n",
    "If the drawing of the user is not helpful the character should fall in the pit or fly off screen or just now shrug. Fails should be funny!\n",
    "          \n",
    "Second, you describe what the succesfull or unsuccesful action looks like. You ALWAYS do so in 6 steps.\n",
    "Describe in 6 frames how the user's addition enables the character to reach the star or how they fail (one of these NOT both). \n",
    "Describe each frame in a single sentence and return them as a numbered list. \n",
    "We will generate those frames and combine them into a gif. \n",
    "\n",
    "It's important you don't add any other attributes besides what the user has drawn, but you can make creative use of it and add some pzazz. \n",
    "For example, if the character gets a trampoline instead of just jumping you can describe a fancy flip. \n",
    "\n",
    "It's important that you do not modify the original landscape.\n",
    "\"\"\"])\n",
    "    \n",
    "    for i in range(1, 7):\n",
    "        progress = 20 + (i-1) * 10  # Start at 20, increment by 10 for each frame\n",
    "        task_status[task_id].update(progress=progress, step=f'Generating frame {i}/6...')\n",
    "        print(f\"Task {task_id}: {task_status[task_id]}\")\n",
    "        \n",
    "        res = chat(f\"Ok now generate frame {i}\")\n",
    "        with open(session_dir / f'frame{i}.png', 'wb') as f: f.write(res.candidates[0].content.parts[0].inline_data.data)\n",
    "        \n",
    "        progress_after = 20 + i * 10\n",
    "        task_status[task_id].update(progress=progress_after, step=f'Frame {i}/6 completed')\n",
    "    \n",
    "    task_status[task_id].update(progress=90, step='Creating animation...')\n",
    "    \n",
    "    img0 = Image.open(session_dir / 'frame0.png').resize((1024, 1024))\n",
    "    img0.save(session_dir / 'frame0_resized.png')\n",
    "    \n",
    "    img0 = Image.open(session_dir / 'canvas_drawing.png').resize((1024, 1024))\n",
    "    img0.save(session_dir / 'canvas_drawing_resized.png')\n",
    "    \n",
    "    subprocess.run(['magick', '-delay', '20', str(session_dir / 'frame0_resized.png'), str(session_dir / 'canvas_drawing_resized.png')] + [str(session_dir / f'frame{i}.png') for i in range(1, 7)] + [str(session_dir / 'animation.gif')])\n",
    "    \n",
    "    task_status[task_id] = dict(progress=100, status='complete', step='Animation complete!', gif_path=str(session_dir / 'animation.gif'))\n",
    "    a = animations[task_id]\n",
    "    a.status = 'completed'\n",
    "    animations.update(a)\n"
   ]
  },
  {
   "cell_type": "code",
   "execution_count": null,
   "id": "1c1a1461",
   "metadata": {
    "input_tokens": 294,
    "time_run": "9:40:53p"
   },
   "outputs": [],
   "source": [
    "#| export\n",
    "@rt(\"/submit_drawing\", methods=[\"POST\"])\n",
    "async def submit_drawing(canvas_data: str, session):\n",
    "    if not session.get('uid'): return Div(P(\"❌ You must be logged in to submit a drawing.\"))\n",
    "    uid = session['uid']\n",
    "    \n",
    "    ts = transactions(\"uid=?\", (uid,))\n",
    "    if balance:=sum(t.amount for t in ts) <= 0: return Div(P(\"❌ Insufficient credits to create animation.\"))\n",
    "    \n",
    "    transactions.insert(Transaction(uid=uid, amount=-1, ts=utc_now()))\n",
    "    task_id = str(uuid.uuid4())\n",
    "    animations.insert(Animation(id=task_id, uid=uid))\n",
    "    asyncio.create_task(create_animation_async(task_id, canvas_data))\n",
    "    return Div(P(\"🔄 Animation started...\"), Progress(value=0, max=100), id=\"progress\", hx_get=f\"/status/{task_id}\", hx_trigger=\"every 2s\", hx_swap=\"outerHTML\")"
   ]
  },
  {
   "cell_type": "code",
   "execution_count": null,
   "id": "8793286b",
   "metadata": {
    "input_tokens": 91,
    "time_run": "8:51:08p"
   },
   "outputs": [],
   "source": [
    "#| export\n",
    "query = \"\"\"\n",
    "SELECT a.*, COALESCE(COUNT(v.aid), 0) as vote_count \n",
    "FROM animation a \n",
    "LEFT JOIN vote v ON a.id = v.aid \n",
    "WHERE a.status = 'completed'\n",
    "GROUP BY a.id \n",
    "ORDER BY vote_count DESC \n",
    "LIMIT 100\n",
    "\"\"\""
   ]
  },
  {
   "cell_type": "code",
   "execution_count": null,
   "id": "d67da5e5",
   "metadata": {
    "input_tokens": 595,
    "time_run": "9:24:42p"
   },
   "outputs": [],
   "source": [
    "#| export\n",
    "@rt('/leaderboard')\n",
    "async def leaderboard(session):\n",
    "    uid = session.get('uid')\n",
    "    if not uid: return RedirectResponse('/login', status_code=303)\n",
    "    \n",
    "    # Get animations with vote counts\n",
    "    top_animations = db.q(query)\n",
    "    leaderboard_items = []\n",
    "    for row in top_animations:\n",
    "        aid = row['id']\n",
    "        user_voted = len(votes(\"uid=? AND aid=?\", (uid, aid))) > 0\n",
    "        if uid == row['id']: btn = \"Yours!\"\n",
    "        else: btn = \"❤️ Undo\" if user_voted else  \"🤍 Upvote\"\n",
    "        vote_button = Button(\n",
    "            btn,\n",
    "            hx_post=f\"/vote/{aid}\",\n",
    "            hx_target=f\"#vote-{aid}\",\n",
    "            style=\"padding:8px 16px; border:none; border-radius:4px; cursor:pointer; \" + \n",
    "                  (\"background:#dc3545; color:white\" if user_voted else \"background:#28a745; color:white\")\n",
    "        )\n",
    "        \n",
    "        leaderboard_items.append(\n",
    "            Div(\n",
    "                Img(src=f\"/data/animations/{aid}/animation.gif\",\n",
    "                    style=\"width:300px; height:300px; object-fit:contain; border-radius:8px\"),\n",
    "                Div(\n",
    "                    P(f\"Votes: {row['vote_count']}\", style=\"font-weight:bold; margin:10px 0\"),\n",
    "                    Div(vote_button, style=\"text-align:center; padding:10px\"),\n",
    "                    id=f\"vote-{aid}\"\n",
    "                ),\n",
    "                style=\"display:inline-block; margin:20px; border:1px solid #ddd; border-radius:12px; padding:15px\"\n",
    "            )\n",
    "        )\n",
    "    \n",
    "    return toolbar(uid=uid, content=Div(\n",
    "        H1(\"🏆 Animation Leaderboard\"),\n",
    "        P(\"Vote for your favorite animations!\"),\n",
    "        Div(*leaderboard_items, style=\"text-align:center\")\n",
    "    ))"
   ]
  },
  {
   "cell_type": "code",
   "execution_count": null,
   "id": "9ba5ae5c",
   "metadata": {
    "input_tokens": 408,
    "time_run": "9:22:13p"
   },
   "outputs": [],
   "source": [
    "#| export\n",
    "@rt(\"/vote/{animation_id}\", methods=[\"POST\"])\n",
    "async def toggle_vote(animation_id: str, session):\n",
    "    if not (uid:=session.get('uid')): return P(\"❌ Must be logged in\")\n",
    "    if existing_vote:= votes(\"uid=? AND aid=?\", (uid, animation_id)):\n",
    "        votes.delete(existing_vote[0].id)\n",
    "        user_voted = False\n",
    "    else:\n",
    "        votes.insert(Vote(uid=uid, aid=animation_id, ts=utc_now()))\n",
    "        user_voted = True\n",
    "    \n",
    "    # Get updated vote count\n",
    "    new_count = len(votes(\"aid=?\", (animation_id,)))\n",
    "    \n",
    "    vote_button = Button(\n",
    "        \"❤️ Undo\" if user_voted else \"🤍 Upvote\",\n",
    "        hx_post=f\"/vote/{animation_id}\",\n",
    "        hx_target=f\"#vote-{animation_id}\",\n",
    "        style=\"padding:8px 16px; border:none; border-radius:4px; cursor:pointer; \" + \n",
    "              (\"background:#dc3545; color:white\" if user_voted else \"background:#28a745; color:white\")\n",
    "    )\n",
    "    \n",
    "    return Div(\n",
    "        P(f\"Votes: {new_count}\", style=\"font-weight:bold; margin:10px 0\"),\n",
    "        Div(vote_button, id=f\"vote-{animation_id}\")\n",
    "    )"
   ]
  }
 ],
 "metadata": {
  "solveit_dialog_mode": "learning",
  "solveit_ver": 2
 },
 "nbformat": 4,
 "nbformat_minor": 5
}
