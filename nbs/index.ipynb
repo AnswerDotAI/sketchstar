{
 "cells": [
  {
   "cell_type": "code",
   "execution_count": null,
   "metadata": {},
   "outputs": [],
   "source": [
    "#| hide\n",
    "from sketchstar.core import *"
   ]
  },
  {
   "cell_type": "markdown",
   "metadata": {},
   "source": [
    "# sketchstar\n",
    "\n",
    "> sketch star app"
   ]
  },
  {
   "cell_type": "markdown",
   "metadata": {},
   "source": [
    "This repo contains the code of my sketch star game.\n",
    "\n",
    "You can try it out here: https://you-are-the-sketch-star.pla.sh\n",
    "\n",
    "The game is built with [Plash](https://pla.sh), [FastHTML](https://fasht.ml), [fastlite](https://github.com/answerdotai/fastlite), [Gaspard](https://github.com/AnswerDotAI/gaspard).\n",
    "\n",
    "Watch a demo video here: https://youtu.be/ttf8-N3Iafc?si=rJ1eREUahLGiAfFn\n",
    "\n",
    "\n"
   ]
  }
 ],
 "metadata": {
  "kernelspec": {
   "display_name": "python3",
   "language": "python",
   "name": "python3"
  }
 },
 "nbformat": 4,
 "nbformat_minor": 4
}
