{
 "cells": [
  {
   "cell_type": "code",
   "execution_count": null,
   "metadata": {},
   "outputs": [],
   "source": [
    "#| hide\n",
    "from sketchstar.core import *"
   ]
  },
  {
   "cell_type": "markdown",
   "metadata": {},
   "source": [
    "# sketchstar\n",
    "\n",
    "> sketch star app"
   ]
  },
  {
   "cell_type": "markdown",
   "metadata": {},
   "source": [
    "This repo contains the code of my sketch star game.\n",
    "\n",
    "You can try it out here: https://you-are-the-sketch-star.plash.app/\n",
    "\n",
    "The game is built with Plash, FastHTML and FastLite.\n",
    "\n",
    "Watch a demo video here: https://youtu.be/ttf8-N3Iafc?si=rJ1eREUahLGiAfFn\n"
   ]
  }
 ],
 "metadata": {
  "kernelspec": {
   "display_name": "python3",
   "language": "python",
   "name": "python3"
  }
 },
 "nbformat": 4,
 "nbformat_minor": 4
}
